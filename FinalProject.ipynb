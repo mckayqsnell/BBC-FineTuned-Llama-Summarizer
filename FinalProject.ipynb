{
 "cells": [
  {
   "cell_type": "markdown",
   "id": "7f6f6e52-4f16-4171-8b51-30bce789a5ea",
   "metadata": {},
   "source": [
    "# NLP Final Project"
   ]
  },
  {
   "cell_type": "markdown",
   "id": "d36112cb-84e9-43f4-a05a-a0f7db06fc32",
   "metadata": {},
   "source": [
    "## Libaries"
   ]
  },
  {
   "cell_type": "code",
   "execution_count": 13,
   "id": "ffca6ad8-28a5-4dc9-8549-f72cedfd5ac0",
   "metadata": {},
   "outputs": [],
   "source": [
    "import os\n",
    "\n",
    "os.environ[\"CUDA_VISIBLE_DEVICES\"]=\"0, 1, 2, 3, 4\""
   ]
  },
  {
   "cell_type": "code",
   "execution_count": 1,
   "id": "6146209d-18be-4423-acce-f62e1ad147c0",
   "metadata": {},
   "outputs": [
    {
     "name": "stderr",
     "output_type": "stream",
     "text": [
      "2024-12-18 18:14:44.390834: I tensorflow/core/platform/cpu_feature_guard.cc:193] This TensorFlow binary is optimized with oneAPI Deep Neural Network Library (oneDNN) to use the following CPU instructions in performance-critical operations:  AVX2 FMA\n",
      "To enable them in other operations, rebuild TensorFlow with the appropriate compiler flags.\n",
      "2024-12-18 18:14:44.551105: W tensorflow/compiler/xla/stream_executor/platform/default/dso_loader.cc:64] Could not load dynamic library 'libcudart.so.11.0'; dlerror: libcudart.so.11.0: cannot open shared object file: No such file or directory\n",
      "2024-12-18 18:14:44.551134: I tensorflow/compiler/xla/stream_executor/cuda/cudart_stub.cc:29] Ignore above cudart dlerror if you do not have a GPU set up on your machine.\n",
      "2024-12-18 18:14:45.407888: W tensorflow/compiler/xla/stream_executor/platform/default/dso_loader.cc:64] Could not load dynamic library 'libnvinfer.so.7'; dlerror: libnvinfer.so.7: cannot open shared object file: No such file or directory\n",
      "2024-12-18 18:14:45.408013: W tensorflow/compiler/xla/stream_executor/platform/default/dso_loader.cc:64] Could not load dynamic library 'libnvinfer_plugin.so.7'; dlerror: libnvinfer_plugin.so.7: cannot open shared object file: No such file or directory\n",
      "2024-12-18 18:14:45.408027: W tensorflow/compiler/tf2tensorrt/utils/py_utils.cc:38] TF-TRT Warning: Cannot dlopen some TensorRT libraries. If you would like to use Nvidia GPU with TensorRT, please make sure the missing libraries mentioned above are installed properly.\n"
     ]
    }
   ],
   "source": [
    "import os\n",
    "import numpy as np\n",
    "import pandas as pd\n",
    "from tqdm import tqdm\n",
    "\n",
    "from transformers import AutoTokenizer, DataCollatorForSeq2Seq, Trainer, TrainingArguments\n",
    "import torch\n",
    "\n",
    "from sklearn.cluster import KMeans\n",
    "from sklearn.decomposition import PCA\n",
    "from sklearn.manifold import TSNE\n",
    "\n",
    "\n",
    "import matplotlib.pyplot as plt\n",
    "import seaborn as sns\n",
    "\n",
    "\n",
    "import warnings\n",
    "warnings.filterwarnings('ignore')"
   ]
  },
  {
   "cell_type": "code",
   "execution_count": 2,
   "id": "f9ad086a-0280-45ca-bfc0-37506c3cd7ed",
   "metadata": {},
   "outputs": [],
   "source": [
    "#device = torch.device('cuda:1')"
   ]
  },
  {
   "cell_type": "markdown",
   "id": "720cfc32-d981-4b09-9634-29ac2a1e67d3",
   "metadata": {},
   "source": [
    "## Data Preperation"
   ]
  },
  {
   "cell_type": "code",
   "execution_count": 3,
   "id": "7181743b-db13-4720-9ddb-ca233e4ea8e1",
   "metadata": {},
   "outputs": [],
   "source": [
    "import pandas as pd\n",
    "\n",
    "dataset_dir = '/home/jupyter-mckayqsnell/Lab5-DataExtractionWithTransformers/data/BBC News Summary/News Articles'"
   ]
  },
  {
   "cell_type": "code",
   "execution_count": 4,
   "id": "e4312837-a52b-46dd-bae0-86b8e15598c7",
   "metadata": {},
   "outputs": [],
   "source": [
    "def create_bbc_dataframe(dataset_dir):\n",
    "    texts = []\n",
    "    categories = []\n",
    "    titles = []\n",
    "    filenames = []\n",
    "\n",
    "    # Loop through each category folder\n",
    "    for category in os.listdir(dataset_dir):\n",
    "        category_path = os.path.join(dataset_dir, category)\n",
    "        if os.path.isdir(category_path):\n",
    "            # Loop through each file in the category folder\n",
    "            for filename in os.listdir(category_path):\n",
    "                file_path = os.path.join(category_path, filename)\n",
    "                if os.path.isfile(file_path):\n",
    "                    with open(file_path, 'r', encoding='latin1') as file:\n",
    "                        text = file.read()\n",
    "                        # The first line is the title\n",
    "                        lines = text.strip().split('\\n')\n",
    "                        title = lines[0] if len(lines) > 0 else ''\n",
    "                        content = '\\n'.join(lines[1:]) if len(lines) > 1 else ''\n",
    "                        titles.append(title)\n",
    "                        texts.append(content)\n",
    "                        categories.append(category)\n",
    "                        filenames.append(filename)\n",
    "    \n",
    "    df = pd.DataFrame({\n",
    "        'Filename': filenames,\n",
    "        'Title': titles,\n",
    "        'Content': texts,\n",
    "        'Category': categories\n",
    "    })\n",
    "    \n",
    "    return df"
   ]
  },
  {
   "cell_type": "code",
   "execution_count": 5,
   "id": "93e00f7c-9cec-4d79-8fc2-7af7a2ea9f08",
   "metadata": {},
   "outputs": [],
   "source": [
    "import os\n",
    "import pandas as pd\n",
    "\n",
    "def create_bbc_summary_dataframe(summaries_dir):\n",
    "    summary_texts = []\n",
    "    summary_filenames = []\n",
    "    summary_categories = []\n",
    "    \n",
    "    # Loop through each category folder in the summaries directory\n",
    "    for category in os.listdir(summaries_dir):\n",
    "        category_path = os.path.join(summaries_dir, category)\n",
    "        if os.path.isdir(category_path):\n",
    "            # Loop through each file in the category folder\n",
    "            for filename in os.listdir(category_path):\n",
    "                file_path = os.path.join(category_path, filename)\n",
    "                if os.path.isfile(file_path):\n",
    "                    with open(file_path, 'r', encoding='latin1') as file:\n",
    "                        summary = file.read().strip()\n",
    "                        summary_texts.append(summary)\n",
    "                        summary_filenames.append(filename)\n",
    "                        summary_categories.append(category)\n",
    "    \n",
    "    # Create a dataframe for summaries\n",
    "    df_summaries = pd.DataFrame({\n",
    "        'Filename': summary_filenames,\n",
    "        'Summary': summary_texts,\n",
    "        'Category': summary_categories\n",
    "    })\n",
    "    \n",
    "    return df_summaries"
   ]
  },
  {
   "cell_type": "code",
   "execution_count": 6,
   "id": "7e73133e-bd57-4d3a-a107-a7476119884b",
   "metadata": {},
   "outputs": [
    {
     "data": {
      "text/html": [
       "<div>\n",
       "<style scoped>\n",
       "    .dataframe tbody tr th:only-of-type {\n",
       "        vertical-align: middle;\n",
       "    }\n",
       "\n",
       "    .dataframe tbody tr th {\n",
       "        vertical-align: top;\n",
       "    }\n",
       "\n",
       "    .dataframe thead th {\n",
       "        text-align: right;\n",
       "    }\n",
       "</style>\n",
       "<table border=\"1\" class=\"dataframe\">\n",
       "  <thead>\n",
       "    <tr style=\"text-align: right;\">\n",
       "      <th></th>\n",
       "      <th>Filename</th>\n",
       "      <th>Summary</th>\n",
       "      <th>Category</th>\n",
       "    </tr>\n",
       "  </thead>\n",
       "  <tbody>\n",
       "    <tr>\n",
       "      <th>0</th>\n",
       "      <td>350.txt</td>\n",
       "      <td>US firm Vonage also offers a Voip service, but...</td>\n",
       "      <td>tech</td>\n",
       "    </tr>\n",
       "    <tr>\n",
       "      <th>1</th>\n",
       "      <td>384.txt</td>\n",
       "      <td>According to the Financial Times' China corres...</td>\n",
       "      <td>tech</td>\n",
       "    </tr>\n",
       "    <tr>\n",
       "      <th>2</th>\n",
       "      <td>381.txt</td>\n",
       "      <td>The base station processes the information fro...</td>\n",
       "      <td>tech</td>\n",
       "    </tr>\n",
       "    <tr>\n",
       "      <th>3</th>\n",
       "      <td>174.txt</td>\n",
       "      <td>One of the key issues for keen gadget users is...</td>\n",
       "      <td>tech</td>\n",
       "    </tr>\n",
       "    <tr>\n",
       "      <th>4</th>\n",
       "      <td>265.txt</td>\n",
       "      <td>About 53 million people own a mobile in the UK...</td>\n",
       "      <td>tech</td>\n",
       "    </tr>\n",
       "  </tbody>\n",
       "</table>\n",
       "</div>"
      ],
      "text/plain": [
       "  Filename                                            Summary Category\n",
       "0  350.txt  US firm Vonage also offers a Voip service, but...     tech\n",
       "1  384.txt  According to the Financial Times' China corres...     tech\n",
       "2  381.txt  The base station processes the information fro...     tech\n",
       "3  174.txt  One of the key issues for keen gadget users is...     tech\n",
       "4  265.txt  About 53 million people own a mobile in the UK...     tech"
      ]
     },
     "execution_count": 6,
     "metadata": {},
     "output_type": "execute_result"
    }
   ],
   "source": [
    "df_summaries = create_bbc_summary_dataframe(\"/home/jupyter-mckayqsnell/Lab5-DataExtractionWithTransformers/data/BBC News Summary/Summaries\")\n",
    "\n",
    "df_summaries.head()"
   ]
  },
  {
   "cell_type": "code",
   "execution_count": 7,
   "id": "a33dbd8d-127d-4769-8ea5-a7e8c0446e35",
   "metadata": {},
   "outputs": [
    {
     "data": {
      "text/html": [
       "<div>\n",
       "<style scoped>\n",
       "    .dataframe tbody tr th:only-of-type {\n",
       "        vertical-align: middle;\n",
       "    }\n",
       "\n",
       "    .dataframe tbody tr th {\n",
       "        vertical-align: top;\n",
       "    }\n",
       "\n",
       "    .dataframe thead th {\n",
       "        text-align: right;\n",
       "    }\n",
       "</style>\n",
       "<table border=\"1\" class=\"dataframe\">\n",
       "  <thead>\n",
       "    <tr style=\"text-align: right;\">\n",
       "      <th></th>\n",
       "      <th>Filename</th>\n",
       "      <th>Title</th>\n",
       "      <th>Content</th>\n",
       "      <th>Category</th>\n",
       "    </tr>\n",
       "  </thead>\n",
       "  <tbody>\n",
       "    <tr>\n",
       "      <th>0</th>\n",
       "      <td>350.txt</td>\n",
       "      <td>Chip maker backs net phone calls</td>\n",
       "      <td>\\nRich Templeton, the head of giant chip maker...</td>\n",
       "      <td>tech</td>\n",
       "    </tr>\n",
       "    <tr>\n",
       "      <th>1</th>\n",
       "      <td>384.txt</td>\n",
       "      <td>China 'ripe' for media explosion</td>\n",
       "      <td>\\nAsia is set to drive global media growth to ...</td>\n",
       "      <td>tech</td>\n",
       "    </tr>\n",
       "    <tr>\n",
       "      <th>2</th>\n",
       "      <td>381.txt</td>\n",
       "      <td>Kenyan school turns to handhelds</td>\n",
       "      <td>\\nAt the Mbita Point primary school in western...</td>\n",
       "      <td>tech</td>\n",
       "    </tr>\n",
       "    <tr>\n",
       "      <th>3</th>\n",
       "      <td>174.txt</td>\n",
       "      <td>Gadgets galore on show at fair</td>\n",
       "      <td>\\nThe 2005 Consumer Electronics Show in Las Ve...</td>\n",
       "      <td>tech</td>\n",
       "    </tr>\n",
       "    <tr>\n",
       "      <th>4</th>\n",
       "      <td>265.txt</td>\n",
       "      <td>Half of UK's mobiles 'go online'</td>\n",
       "      <td>\\nMultimedia mobile phones are finally showing...</td>\n",
       "      <td>tech</td>\n",
       "    </tr>\n",
       "  </tbody>\n",
       "</table>\n",
       "</div>"
      ],
      "text/plain": [
       "  Filename                             Title  \\\n",
       "0  350.txt  Chip maker backs net phone calls   \n",
       "1  384.txt  China 'ripe' for media explosion   \n",
       "2  381.txt  Kenyan school turns to handhelds   \n",
       "3  174.txt    Gadgets galore on show at fair   \n",
       "4  265.txt  Half of UK's mobiles 'go online'   \n",
       "\n",
       "                                             Content Category  \n",
       "0  \\nRich Templeton, the head of giant chip maker...     tech  \n",
       "1  \\nAsia is set to drive global media growth to ...     tech  \n",
       "2  \\nAt the Mbita Point primary school in western...     tech  \n",
       "3  \\nThe 2005 Consumer Electronics Show in Las Ve...     tech  \n",
       "4  \\nMultimedia mobile phones are finally showing...     tech  "
      ]
     },
     "execution_count": 7,
     "metadata": {},
     "output_type": "execute_result"
    }
   ],
   "source": [
    "bbc_df = create_bbc_dataframe(dataset_dir)\n",
    "\n",
    "bbc_df.head()"
   ]
  },
  {
   "cell_type": "code",
   "execution_count": 8,
   "id": "4ab860d4-f058-41dd-b903-41426d47bca0",
   "metadata": {},
   "outputs": [],
   "source": [
    "df_merged = pd.merge(\n",
    "    bbc_df, \n",
    "    df_summaries[['Filename', 'Summary', 'Category']], \n",
    "    on=['Filename', 'Category'], \n",
    "    how='left'\n",
    ")"
   ]
  },
  {
   "cell_type": "code",
   "execution_count": 9,
   "id": "34a11302-fe2c-4e7a-95d1-def29f2d2535",
   "metadata": {},
   "outputs": [
    {
     "data": {
      "text/html": [
       "<div>\n",
       "<style scoped>\n",
       "    .dataframe tbody tr th:only-of-type {\n",
       "        vertical-align: middle;\n",
       "    }\n",
       "\n",
       "    .dataframe tbody tr th {\n",
       "        vertical-align: top;\n",
       "    }\n",
       "\n",
       "    .dataframe thead th {\n",
       "        text-align: right;\n",
       "    }\n",
       "</style>\n",
       "<table border=\"1\" class=\"dataframe\">\n",
       "  <thead>\n",
       "    <tr style=\"text-align: right;\">\n",
       "      <th></th>\n",
       "      <th>Filename</th>\n",
       "      <th>Title</th>\n",
       "      <th>Content</th>\n",
       "      <th>Category</th>\n",
       "      <th>Summary</th>\n",
       "    </tr>\n",
       "  </thead>\n",
       "  <tbody>\n",
       "    <tr>\n",
       "      <th>0</th>\n",
       "      <td>350.txt</td>\n",
       "      <td>Chip maker backs net phone calls</td>\n",
       "      <td>\\nRich Templeton, the head of giant chip maker...</td>\n",
       "      <td>tech</td>\n",
       "      <td>US firm Vonage also offers a Voip service, but...</td>\n",
       "    </tr>\n",
       "    <tr>\n",
       "      <th>1</th>\n",
       "      <td>384.txt</td>\n",
       "      <td>China 'ripe' for media explosion</td>\n",
       "      <td>\\nAsia is set to drive global media growth to ...</td>\n",
       "      <td>tech</td>\n",
       "      <td>According to the Financial Times' China corres...</td>\n",
       "    </tr>\n",
       "    <tr>\n",
       "      <th>2</th>\n",
       "      <td>381.txt</td>\n",
       "      <td>Kenyan school turns to handhelds</td>\n",
       "      <td>\\nAt the Mbita Point primary school in western...</td>\n",
       "      <td>tech</td>\n",
       "      <td>The base station processes the information fro...</td>\n",
       "    </tr>\n",
       "    <tr>\n",
       "      <th>3</th>\n",
       "      <td>174.txt</td>\n",
       "      <td>Gadgets galore on show at fair</td>\n",
       "      <td>\\nThe 2005 Consumer Electronics Show in Las Ve...</td>\n",
       "      <td>tech</td>\n",
       "      <td>One of the key issues for keen gadget users is...</td>\n",
       "    </tr>\n",
       "    <tr>\n",
       "      <th>4</th>\n",
       "      <td>265.txt</td>\n",
       "      <td>Half of UK's mobiles 'go online'</td>\n",
       "      <td>\\nMultimedia mobile phones are finally showing...</td>\n",
       "      <td>tech</td>\n",
       "      <td>About 53 million people own a mobile in the UK...</td>\n",
       "    </tr>\n",
       "  </tbody>\n",
       "</table>\n",
       "</div>"
      ],
      "text/plain": [
       "  Filename                             Title  \\\n",
       "0  350.txt  Chip maker backs net phone calls   \n",
       "1  384.txt  China 'ripe' for media explosion   \n",
       "2  381.txt  Kenyan school turns to handhelds   \n",
       "3  174.txt    Gadgets galore on show at fair   \n",
       "4  265.txt  Half of UK's mobiles 'go online'   \n",
       "\n",
       "                                             Content Category  \\\n",
       "0  \\nRich Templeton, the head of giant chip maker...     tech   \n",
       "1  \\nAsia is set to drive global media growth to ...     tech   \n",
       "2  \\nAt the Mbita Point primary school in western...     tech   \n",
       "3  \\nThe 2005 Consumer Electronics Show in Las Ve...     tech   \n",
       "4  \\nMultimedia mobile phones are finally showing...     tech   \n",
       "\n",
       "                                             Summary  \n",
       "0  US firm Vonage also offers a Voip service, but...  \n",
       "1  According to the Financial Times' China corres...  \n",
       "2  The base station processes the information fro...  \n",
       "3  One of the key issues for keen gadget users is...  \n",
       "4  About 53 million people own a mobile in the UK...  "
      ]
     },
     "execution_count": 9,
     "metadata": {},
     "output_type": "execute_result"
    }
   ],
   "source": [
    "df_merged.head()"
   ]
  },
  {
   "cell_type": "code",
   "execution_count": 10,
   "id": "3f3004da",
   "metadata": {},
   "outputs": [],
   "source": [
    "# save df_merged to a csv file\n",
    "df_merged.to_csv('/home/jupyter-mckayqsnell/FinalProject/df_merged.csv', index=False)"
   ]
  },
  {
   "cell_type": "code",
   "execution_count": 11,
   "id": "80db33b9",
   "metadata": {},
   "outputs": [
    {
     "name": "stdout",
     "output_type": "stream",
     "text": [
      "US firm Vonage also offers a Voip service, but one which lets people plug an ordinary phone into a broadband router to make calls.Rich Templeton, the head of giant chip maker Texas Instruments, has given his backing to the growing sector of Voice over Internet Telephony (Voip)  Voip allows PC users, and in some cases those with just a broadband connection, to make telephone calls via the net.Subscribers to Wanadoo's broadband service will be able to use the service to make free evening and weekend calls to any UK landline, and free calls at any time to other Wanadoo users.Internet service provider Wanadoo has announced it is launching its own broadband telephony service in the UK.Mr Templeton said Voip would be the next major application to drive broadband connections into homes.\"Voice-over-packet is going to be the second killer application after broadband internet access,\" he said.The service will cost an extra Â£4 a month and will come with a free Livebox, the broadband hub which Wanadoo plans will be used in future to provide video-on-demand and home security services.Skype lets people make free calls to other Skype users and also make low-cost calls to ordinary phone numbers.Almost 83 million people have downloaded the software that powers the Skype Voip service, according to the net telephony firm's website.\"We can help mass-market adoption of Voip,\" said AOL chief executive Jonathan Miller.\n"
     ]
    }
   ],
   "source": [
    "# print the the summary of the first article\n",
    "print(df_merged['Summary'][0])"
   ]
  },
  {
   "cell_type": "markdown",
   "id": "93731d4f-cecb-44a4-a901-812d66ba14ff",
   "metadata": {},
   "source": [
    "## Evaluating performance with Summarization since the dataset contains summerizations for each article\n",
    "\n",
    "BLEU & ROUGE"
   ]
  },
  {
   "cell_type": "markdown",
   "id": "64307bd9-3554-4255-a96b-79bb839691fb",
   "metadata": {},
   "source": [
    "## Model"
   ]
  },
  {
   "cell_type": "code",
   "execution_count": 25,
   "id": "c5f3d63f-18d8-4bbd-97ee-8ab0d892bb32",
   "metadata": {},
   "outputs": [],
   "source": [
    "from transformers import AutoTokenizer, AutoModelForCausalLM, pipeline\n",
    "\n",
    "\n",
    "model_name = 'meta-llama/Llama-3.2-1B'"
   ]
  },
  {
   "cell_type": "code",
   "execution_count": 26,
   "id": "0121598c-2fd2-407d-b691-da0cbb292eba",
   "metadata": {},
   "outputs": [],
   "source": [
    "# Load the model and tokenizer only once\n",
    "tokenizer = AutoTokenizer.from_pretrained(model_name, use_auth_token=True)\n",
    "tokenizer.pad_token = tokenizer.eos_token\n",
    "model = AutoModelForCausalLM.from_pretrained(\n",
    "    model_name,\n",
    "    device_map=\"auto\",\n",
    "    use_auth_token=True\n",
    ")"
   ]
  },
  {
   "cell_type": "code",
   "execution_count": 27,
   "id": "85d30de5-5acb-409f-bfb6-6a8e5a0d2aec",
   "metadata": {},
   "outputs": [],
   "source": [
    "article_text = df_merged[\"Content\"].iloc[0]"
   ]
  },
  {
   "cell_type": "code",
   "execution_count": 28,
   "id": "0e7fc55d-ca27-427a-80eb-ba1101de4efb",
   "metadata": {},
   "outputs": [
    {
     "name": "stdout",
     "output_type": "stream",
     "text": [
      "Number of tokens: 588\n"
     ]
    }
   ],
   "source": [
    "# Tokenize the article text\n",
    "tokens = tokenizer(article_text, return_tensors=\"pt\", truncation=False)\n",
    "\n",
    "# Count the number of tokens\n",
    "num_tokens = len(tokens[\"input_ids\"][0])\n",
    "\n",
    "print(f\"Number of tokens: {num_tokens}\")"
   ]
  },
  {
   "cell_type": "code",
   "execution_count": 30,
   "id": "177e05a5-6f9e-4f0c-974e-72da7d9a986f",
   "metadata": {},
   "outputs": [
    {
     "name": "stdout",
     "output_type": "stream",
     "text": [
      "Number of tokens: 291\n"
     ]
    }
   ],
   "source": [
    "# how long are the summaries usually?\n",
    "summary_text = df_merged[\"Summary\"].iloc[0]\n",
    "# Tokenize the summary text\n",
    "tokens = tokenizer(summary_text, return_tensors=\"pt\", truncation=False)\n",
    "\n",
    "# Count the number of tokens\n",
    "num_tokens = len(tokens[\"input_ids\"][0])\n",
    "\n",
    "print(f\"Number of tokens: {num_tokens}\")"
   ]
  },
  {
   "cell_type": "markdown",
   "id": "34e4b689-dc6b-42e9-a6b8-c44b949ee4ee",
   "metadata": {
    "jp-MarkdownHeadingCollapsed": true
   },
   "source": [
    "## Method 1: Base Llama model without fine-tuning or context.\n",
    "\n",
    "Approach: Use the base Llama model to generate summaries without any fine-tuning or additional context.\n",
    "\n",
    "Prompt: Provide the article text and ask for a summary."
   ]
  },
  {
   "cell_type": "markdown",
   "id": "44350165-6943-49e9-8369-beeb7f885dc1",
   "metadata": {},
   "source": [
    "Singleton Initialization:\n",
    "Instead of re-initializing the pipeline multiple times, set it up once and re-use the same instance. If you need to modify parameters, try passing them during inference calls rather than re-creating the pipeline."
   ]
  },
  {
   "cell_type": "code",
   "execution_count": 31,
   "id": "40551289-9aa4-4155-aa44-e206457bcce8",
   "metadata": {},
   "outputs": [],
   "source": [
    "# create the pipeline once\n",
    "pipe = pipeline(\n",
    "    \"text-generation\", \n",
    "    model=model,\n",
    "    tokenizer=tokenizer,\n",
    "    device_map=\"auto\"\n",
    ")"
   ]
  },
  {
   "cell_type": "code",
   "execution_count": 37,
   "id": "2f84186a-50f3-4d85-9c8f-f78cb5da41d6",
   "metadata": {},
   "outputs": [],
   "source": [
    "def summarize_article(article_text, max_new_tokens=400, temperature=0.7, top_p=0.9):\n",
    "    prompt = f\"Summarize the following article:\\n\\n{article_text}\\n\\nSummary:\"\n",
    "    # Specify generation parameters here instead of creating a new pipeline\n",
    "    output = pipe(prompt, \n",
    "                  num_return_sequences=1, \n",
    "                  pad_token_id=tokenizer.eos_token_id,\n",
    "                  max_new_tokens=max_new_tokens,\n",
    "                  temperature=temperature,\n",
    "                  top_p=top_p,\n",
    "                  do_sample=True)\n",
    "    generated_text = output[0]['generated_text']\n",
    "    summary_start = generated_text.find(\"Summary:\") + len(\"Summary:\")\n",
    "    return generated_text[summary_start:].strip()"
   ]
  },
  {
   "cell_type": "code",
   "execution_count": 38,
   "id": "22c0faae-dbce-4558-8a60-ef99aed28113",
   "metadata": {},
   "outputs": [],
   "source": [
    "article_text = df_merged[\"Content\"].iloc[0]"
   ]
  },
  {
   "cell_type": "code",
   "execution_count": 39,
   "id": "626382e1-7a57-45a3-97cf-50a088324d2a",
   "metadata": {},
   "outputs": [],
   "source": [
    "article_text_summary = df_merged[\"Summary\"].iloc[0]"
   ]
  },
  {
   "cell_type": "code",
   "execution_count": 40,
   "id": "c9c08289-1a55-4aa0-976d-59fbf2a4dc87",
   "metadata": {},
   "outputs": [
    {
     "name": "stdout",
     "output_type": "stream",
     "text": [
      "Generated Summary: Voip will be the next major application to drive broadband connections into homes.\n",
      "\n",
      "Voip allows PC users, and in some cases those with just a broadband connection, to make telephone calls via the net. Mr Templeton said Voip would be the next major application to drive broadband connections into homes.\n",
      "\n",
      "Internet service provider Wanadoo has announced it is launching its own broadband telephony service in the UK.\n",
      "\n",
      "The world's largest maker of chips for mobile phones believes the technology will grow rapidly from the relatively small user base it has currently.\n",
      "\n",
      "Almost 83 million people have downloaded the software that powers the Skype Voip service, according to the net telephony firm's website.\n",
      "\n",
      "Skype lets people make free calls to other Skype users and also make low-cost calls to ordinary phone numbers.\n",
      "\n",
      "US firm Vonage also offers a Voip service, but one which lets people plug an ordinary phone into a broadband router to make calls.\n",
      "\n",
      "Bill Simmelink, general manager of TI's Voip business, said the technology would only take off when people were making net calls with the ease of making a normal call.\n",
      "\n",
      "\"We want to communicate freely, effortlessly and economically wherever we are.\"\n",
      "\n",
      "In a sign that Voip is seeping into the mainstream, giant ISP AOL announced on Tuesday that it had plans to launch a net-based phone service for some of its members within the month.\n",
      "\n",
      "Customers will continue to use their traditional phones, but they will plug them into adapters connected to their broadband source rather than the jack provided by the telephone company.\n",
      "\n",
      "Calls are received and placed just like on the old telephone network.\n",
      "\n",
      "\"We can help mass-market adoption of Voip,\" said AOL chief executive Jonathan Miller.\n",
      "\n",
      "\"We can utilise our national footprint. We can help the entire industry become well known.\"\n"
     ]
    }
   ],
   "source": [
    "summary = summarize_article(article_text)\n",
    "print(\"Generated Summary:\", summary)"
   ]
  },
  {
   "cell_type": "code",
   "execution_count": 23,
   "id": "bfe71f13-de9c-481f-b3a9-a1ca3322d024",
   "metadata": {},
   "outputs": [],
   "source": [
    "from datasets import Dataset\n",
    "from tqdm.auto import tqdm\n",
    "\n",
    "ds = Dataset.from_pandas(df_merged)\n",
    "ds_sampled = ds.shuffle(seed=42).select(range(100))"
   ]
  },
  {
   "cell_type": "code",
   "execution_count": 24,
   "id": "f7fcac9c-052a-43d6-b098-b430ed672c97",
   "metadata": {},
   "outputs": [],
   "source": [
    "def generate_summary(example):\n",
    "    article_text = example[\"Content\"]\n",
    "    gen_summary = summarize_article(article_text)\n",
    "    return {\"Generated_Summary\": gen_summary}"
   ]
  },
  {
   "cell_type": "code",
   "execution_count": 25,
   "id": "b5cb0509-71ad-4e37-841a-03bfba084755",
   "metadata": {},
   "outputs": [
    {
     "data": {
      "application/vnd.jupyter.widget-view+json": {
       "model_id": "84ecf6687ac34a9487d98659d99f8fd0",
       "version_major": 2,
       "version_minor": 0
      },
      "text/plain": [
       "Map:   0%|          | 0/100 [00:00<?, ? examples/s]"
      ]
     },
     "metadata": {},
     "output_type": "display_data"
    },
    {
     "name": "stderr",
     "output_type": "stream",
     "text": [
      "You seem to be using the pipelines sequentially on GPU. In order to maximize efficiency please use a dataset\n"
     ]
    }
   ],
   "source": [
    "ds_with_summaries = ds_sampled.map(generate_summary, num_proc=1)"
   ]
  },
  {
   "cell_type": "markdown",
   "id": "419f8505-ec04-4733-8d1c-3219fccf40d2",
   "metadata": {},
   "source": [
    "### BLEU and ROUGE SCORES\n",
    "\n",
    "- ROUGE-1 measures the overlap of individual words (unigrams) between the generated summary and the reference summary\n",
    "- ROUGE-2 measures the overlap of bigrams (pairs of consecutive words)\n",
    "- ROUGE-L is based on the longest common subsequence of words between the generated and reference summaries\n",
    "- BLEU measures how close the generated summary is to the reference summary in terms of overlapping n-grams (up to four-word sequences), and applies a brevity penalty if the generated text is shorter than the reference"
   ]
  },
  {
   "cell_type": "code",
   "execution_count": 26,
   "id": "a042e8be-5fd0-4115-8cca-ff7a20da2347",
   "metadata": {},
   "outputs": [],
   "source": [
    "import evaluate\n",
    "\n",
    "def compute_metrics(df):\n",
    "    \"\"\"\n",
    "    Computes ROUGE and BLEU scores for the generated summaries vs. the reference summaries in the given DataFrame.\n",
    "\n",
    "    Args:\n",
    "        df (pd.DataFrame): DataFrame containing \"Summary\" and \"Generated_Summary\" columns.\n",
    "\n",
    "    Returns:\n",
    "        (dict, dict): A tuple (rouge_results, bleu_results) where each is a dictionary of metric scores.\n",
    "    \"\"\"\n",
    "    references = df[\"Summary\"].tolist()\n",
    "    predictions = df[\"Generated_Summary\"].tolist()\n",
    "\n",
    "    # Load metrics\n",
    "    rouge = evaluate.load(\"rouge\")\n",
    "    bleu = evaluate.load(\"bleu\")\n",
    "\n",
    "    # Compute ROUGE\n",
    "    rouge_results = rouge.compute(predictions=predictions, references=references)\n",
    "\n",
    "    # Compute BLEU\n",
    "    # BLEU expects references as list of lists\n",
    "    bleu_references = [[ref] for ref in references]\n",
    "    bleu_results = bleu.compute(predictions=predictions, references=bleu_references)\n",
    "\n",
    "    return rouge_results, bleu_results"
   ]
  },
  {
   "cell_type": "code",
   "execution_count": 28,
   "id": "11bf80a5-39b3-4806-bd6c-b796e9cdeea0",
   "metadata": {},
   "outputs": [
    {
     "name": "stdout",
     "output_type": "stream",
     "text": [
      "ROUGE Results: {'rouge1': 0.4242405197028268, 'rouge2': 0.27631630983759975, 'rougeL': 0.2593456629567108, 'rougeLsum': 0.2714577838122326}\n",
      "BLEU Result: {'bleu': 0.28604845216253166, 'precisions': [0.46920649760430055, 0.3150379032731974, 0.27033096926713945, 0.24638887237710277], 'brevity_penalty': 0.9080895389826107, 'length_ratio': 0.9120656576422937, 'translation_length': 17114, 'reference_length': 18764}\n"
     ]
    }
   ],
   "source": [
    "df_with_summaries = ds_with_summaries.to_pandas()\n",
    "rouge_results, bleu_results = compute_metrics(df_with_summaries)\n",
    "\n",
    "print(\"ROUGE Results:\", rouge_results)\n",
    "print(\"BLEU Result:\", bleu_results)"
   ]
  },
  {
   "cell_type": "code",
   "execution_count": 29,
   "id": "4ea771ea-371b-407c-a20a-a5b9a09c3aec",
   "metadata": {},
   "outputs": [
    {
     "data": {
      "text/html": [
       "<div>\n",
       "<style scoped>\n",
       "    .dataframe tbody tr th:only-of-type {\n",
       "        vertical-align: middle;\n",
       "    }\n",
       "\n",
       "    .dataframe tbody tr th {\n",
       "        vertical-align: top;\n",
       "    }\n",
       "\n",
       "    .dataframe thead th {\n",
       "        text-align: right;\n",
       "    }\n",
       "</style>\n",
       "<table border=\"1\" class=\"dataframe\">\n",
       "  <thead>\n",
       "    <tr style=\"text-align: right;\">\n",
       "      <th></th>\n",
       "      <th>Filename</th>\n",
       "      <th>Title</th>\n",
       "      <th>Content</th>\n",
       "      <th>Category</th>\n",
       "      <th>Summary</th>\n",
       "      <th>Generated_Summary</th>\n",
       "    </tr>\n",
       "  </thead>\n",
       "  <tbody>\n",
       "    <tr>\n",
       "      <th>0</th>\n",
       "      <td>165.txt</td>\n",
       "      <td>'Brainwave' cap controls computer</td>\n",
       "      <td>\\nA team of US researchers has shown that cont...</td>\n",
       "      <td>tech</td>\n",
       "      <td>Although the two partially-paralysed people pe...</td>\n",
       "      <td>Researchers in the US have used a cap with 64 ...</td>\n",
       "    </tr>\n",
       "    <tr>\n",
       "      <th>1</th>\n",
       "      <td>082.txt</td>\n",
       "      <td>Greek duo cleared in doping case</td>\n",
       "      <td>\\nSprinters Kostas Kenteris and Katerina Thano...</td>\n",
       "      <td>sport</td>\n",
       "      <td>Kenteris's lawyer, Gregory Ioannidis, said: \"T...</td>\n",
       "      <td>In the article, Sprinters Kostas Kenteris and ...</td>\n",
       "    </tr>\n",
       "    <tr>\n",
       "      <th>2</th>\n",
       "      <td>399.txt</td>\n",
       "      <td>Farrell saga to drag on - Lindsay</td>\n",
       "      <td>\\nWigan chairman Maurice Lindsay says he does ...</td>\n",
       "      <td>sport</td>\n",
       "      <td>Although the move would be a lucrative one for...</td>\n",
       "      <td>Wigan chairman Maurice Lindsay says he does no...</td>\n",
       "    </tr>\n",
       "    <tr>\n",
       "      <th>3</th>\n",
       "      <td>256.txt</td>\n",
       "      <td>Blair pledges unity to Labour MPs</td>\n",
       "      <td>\\nTony Blair has sought to reassure Labour bac...</td>\n",
       "      <td>politics</td>\n",
       "      <td>Mr Brown allegedly said he could no longer bel...</td>\n",
       "      <td>Tony Blair and Gordon Brown are at odds, and t...</td>\n",
       "    </tr>\n",
       "    <tr>\n",
       "      <th>4</th>\n",
       "      <td>159.txt</td>\n",
       "      <td>India unveils anti-poverty budget</td>\n",
       "      <td>\\nIndia is to boost spending on primary school...</td>\n",
       "      <td>business</td>\n",
       "      <td>But the heavy spending on poverty reduction me...</td>\n",
       "      <td>The Indian government is planning to boost spe...</td>\n",
       "    </tr>\n",
       "  </tbody>\n",
       "</table>\n",
       "</div>"
      ],
      "text/plain": [
       "  Filename                              Title  \\\n",
       "0  165.txt  'Brainwave' cap controls computer   \n",
       "1  082.txt   Greek duo cleared in doping case   \n",
       "2  399.txt  Farrell saga to drag on - Lindsay   \n",
       "3  256.txt  Blair pledges unity to Labour MPs   \n",
       "4  159.txt  India unveils anti-poverty budget   \n",
       "\n",
       "                                             Content  Category  \\\n",
       "0  \\nA team of US researchers has shown that cont...      tech   \n",
       "1  \\nSprinters Kostas Kenteris and Katerina Thano...     sport   \n",
       "2  \\nWigan chairman Maurice Lindsay says he does ...     sport   \n",
       "3  \\nTony Blair has sought to reassure Labour bac...  politics   \n",
       "4  \\nIndia is to boost spending on primary school...  business   \n",
       "\n",
       "                                             Summary  \\\n",
       "0  Although the two partially-paralysed people pe...   \n",
       "1  Kenteris's lawyer, Gregory Ioannidis, said: \"T...   \n",
       "2  Although the move would be a lucrative one for...   \n",
       "3  Mr Brown allegedly said he could no longer bel...   \n",
       "4  But the heavy spending on poverty reduction me...   \n",
       "\n",
       "                                   Generated_Summary  \n",
       "0  Researchers in the US have used a cap with 64 ...  \n",
       "1  In the article, Sprinters Kostas Kenteris and ...  \n",
       "2  Wigan chairman Maurice Lindsay says he does no...  \n",
       "3  Tony Blair and Gordon Brown are at odds, and t...  \n",
       "4  The Indian government is planning to boost spe...  "
      ]
     },
     "execution_count": 29,
     "metadata": {},
     "output_type": "execute_result"
    }
   ],
   "source": [
    "df_with_summaries.head()"
   ]
  },
  {
   "cell_type": "code",
   "execution_count": 35,
   "id": "a13bd469-f771-426b-a99f-08f313e38d11",
   "metadata": {},
   "outputs": [
    {
     "name": "stdout",
     "output_type": "stream",
     "text": [
      "ROUGE Results: {'rouge1': 0.33009708737864074, 'rouge2': 0.15686274509803924, 'rougeL': 0.18446601941747573, 'rougeLsum': 0.18446601941747573}\n",
      "BLEU Result: {'bleu': 0.008908460132149278, 'precisions': [0.85, 0.38461538461538464, 0.23684210526315788, 0.10810810810810811], 'brevity_penalty': 0.02945180736910728, 'length_ratio': 0.22099447513812154, 'translation_length': 40, 'reference_length': 181}\n"
     ]
    }
   ],
   "source": [
    "rouge = evaluate.load(\"rouge\")\n",
    "bleu = evaluate.load(\"bleu\")\n",
    "\n",
    "test_sum = [df_with_summaries['Summary'].iloc[0]]\n",
    "test_gen_sum = [df_with_summaries['Generated_Summary'].iloc[0]]\n",
    "\n",
    "predictions = test_gen_sum\n",
    "references = test_sum\n",
    "\n",
    "rouge_results = rouge.compute(predictions=predictions, references=references)\n",
    "\n",
    "bleu_references = [[ref] for ref in references]\n",
    "bleu_results = bleu.compute(predictions=predictions, references=bleu_references)\n",
    "\n",
    "print(\"ROUGE Results:\", rouge_results)\n",
    "print(\"BLEU Result:\", bleu_results)"
   ]
  },
  {
   "cell_type": "markdown",
   "id": "7c8b3d18-64f8-4092-be5a-07bc514364f3",
   "metadata": {},
   "source": [
    "## Method 3: Fine-tuned Llama model on the BBC dataset, without additional context\n",
    "\n",
    "Approach: Fine-tune the Llama model on the BBC articles and their summaries.\n",
    "\n",
    "Prompt: Provide the article text without additional context.\n",
    "\n",
    "Formatting the Data:\n",
    "\n",
    "might prepend a special instruction prompt, like:\n",
    "\n",
    "\"Summarize the following article:\\n\\n{article_text}\\n\\nSummary:\"\n",
    "and the model’s target is the reference summary text.\n",
    "Ensure both input and output are tokenized. The model will learn to predict the summary tokens given the article tokens.\n",
    "\n",
    "70% train\n",
    "15% validation\n",
    "15% test"
   ]
  },
  {
   "cell_type": "code",
   "execution_count": 17,
   "id": "9ecefb35-e10b-4aa4-b960-d8b317689f5c",
   "metadata": {},
   "outputs": [],
   "source": [
    "from transformers import DataCollatorForSeq2Seq, Trainer, TrainingArguments"
   ]
  },
  {
   "cell_type": "code",
   "execution_count": 18,
   "id": "a5b2ce22-245b-4f08-ac6a-5129d60422c7",
   "metadata": {},
   "outputs": [],
   "source": [
    "def prepare_examples(examples, max_length=2000, min_summary_length=50):\n",
    "    articles = examples[\"Content\"]\n",
    "    summaries = examples[\"Summary\"]\n",
    "    \n",
    "    new_examples = {\"input_ids\": [], \"labels\": []}\n",
    "    for article, summary in zip(articles, summaries):\n",
    "        prompt_text = f\"Summarize the following article:\\n\\n{article}\\n\\nSummary:\"\n",
    "        prompt_encoding = tokenizer(prompt_text, truncation=False, add_special_tokens=False)\n",
    "        prompt_ids = prompt_encoding[\"input_ids\"]\n",
    "        \n",
    "        summary_encoding = tokenizer(summary, truncation=False, add_special_tokens=False)\n",
    "        summary_ids = summary_encoding[\"input_ids\"]\n",
    "        \n",
    "        total_length = len(prompt_ids) + len(summary_ids)\n",
    "        \n",
    "        # If too long, truncate the prompt (article) portion first.\n",
    "        if total_length > max_length:\n",
    "            # Try to fit the entire summary if possible\n",
    "            summary_length_to_fit = len(summary_ids)\n",
    "            \n",
    "            # If entire summary doesn't fit, at least fit 'min_summary_length'\n",
    "            if summary_length_to_fit > (max_length - min_summary_length):\n",
    "                summary_length_to_fit = min_summary_length\n",
    "            \n",
    "            # Max prompt length allowed after reserving space for summary\n",
    "            max_prompt_length = max_length - summary_length_to_fit\n",
    "            \n",
    "            if len(prompt_ids) > max_prompt_length:\n",
    "                prompt_ids = prompt_ids[:max_prompt_length]\n",
    "            \n",
    "            # Re-check total length, if still too long, truncate summary\n",
    "            if len(prompt_ids) + len(summary_ids) > max_length:\n",
    "                summary_ids = summary_ids[:max_length - len(prompt_ids)]\n",
    "        \n",
    "        full_input_ids = prompt_ids + summary_ids\n",
    "        \n",
    "        labels = full_input_ids.copy()\n",
    "        # Mark the prompt portion as -100\n",
    "        prompt_length = len(prompt_ids)\n",
    "        for i in range(prompt_length):\n",
    "            labels[i] = -100\n",
    "        \n",
    "        new_examples[\"input_ids\"].append(full_input_ids)\n",
    "        new_examples[\"labels\"].append(labels)\n",
    "    return new_examples"
   ]
  },
  {
   "cell_type": "code",
   "execution_count": 19,
   "id": "9cff8513-5cb9-43da-b29e-c9de89f53d19",
   "metadata": {},
   "outputs": [],
   "source": [
    "from datasets import Dataset, load_from_disk\n",
    "dataset = Dataset.from_pandas(df_merged)"
   ]
  },
  {
   "cell_type": "code",
   "execution_count": 20,
   "id": "986515c9-8769-4666-af76-5f965be4166f",
   "metadata": {},
   "outputs": [
    {
     "data": {
      "application/vnd.jupyter.widget-view+json": {
       "model_id": "50ae6c523a8d4c76957d750f2c714837",
       "version_major": 2,
       "version_minor": 0
      },
      "text/plain": [
       "Map:   0%|          | 0/2225 [00:00<?, ? examples/s]"
      ]
     },
     "metadata": {},
     "output_type": "display_data"
    }
   ],
   "source": [
    "dataset = dataset.map(lambda x: prepare_examples(x, max_length=3000, min_summary_length=50), batched=True, remove_columns=dataset.column_names)"
   ]
  },
  {
   "cell_type": "code",
   "execution_count": 21,
   "id": "f9d54a06-b0bd-4742-aa3f-9c3f21e4713a",
   "metadata": {},
   "outputs": [
    {
     "name": "stdout",
     "output_type": "stream",
     "text": [
      "Train size: 1557\n",
      "Validation size: 334\n",
      "Test size: 334\n"
     ]
    }
   ],
   "source": [
    "# First split: 70% train, 30% test+validation\n",
    "train_test = dataset.train_test_split(test_size=0.3, seed=42)\n",
    "train_dataset = train_test['train']\n",
    "temp_dataset = train_test['test']\n",
    "\n",
    "# Second split: split the 30% subset into two 15% splits: validation and test\n",
    "validation_test = temp_dataset.train_test_split(test_size=0.5, seed=42)\n",
    "validation_dataset = validation_test['train']\n",
    "test_dataset = validation_test['test']\n",
    "\n",
    "print(\"Train size:\", len(train_dataset))\n",
    "print(\"Validation size:\", len(validation_dataset))\n",
    "print(\"Test size:\", len(test_dataset))"
   ]
  },
  {
   "cell_type": "code",
   "execution_count": 22,
   "id": "f8db36bc-66b0-43e1-8d1b-181d6c105f49",
   "metadata": {},
   "outputs": [
    {
     "name": "stdout",
     "output_type": "stream",
     "text": [
      "{'input_ids': [9370, 5730, 553, 279, 2768, 4652, 25393, 791, 8753, 3109, 374, 311, 1450, 1202, 20558, 13378, 5064, 220, 2031, 76, 33588, 1746, 5925, 76, 8, 304, 12576, 311, 1520, 433, 8209, 16054, 6763, 323, 34446, 927, 23452, 382, 791, 6020, 6462, 374, 20034, 520, 46927, 348, 396, 5079, 304, 6020, 12544, 323, 18899, 1268, 1202, 13378, 374, 61149, 13, 578, 8753, 13378, 5064, 11, 279, 1917, 596, 2132, 7928, 11, 706, 1027, 4295, 555, 43848, 15652, 520, 2162, 323, 279, 7982, 23354, 315, 1561, 4435, 43855, 13, 32926, 29414, 11, 4869, 11, 11922, 279, 1862, 1550, 539, 733, 3117, 3403, 13, 578, 6462, 574, 7376, 555, 30029, 13015, 23286, 2428, 426, 1892, 486, 2933, 1306, 13739, 449, 348, 396, 5079, 6, 24005, 382, 791, 20155, 315, 279, 3300, 482, 922, 220, 1272, 76, 33588, 482, 690, 387, 9076, 304, 279, 1376, 315, 10932, 2335, 17017, 311, 17345, 93998, 24190, 311, 7431, 1124, 311, 594, 8972, 872, 14507, 13, 362, 4726, 220, 868, 76, 33588, 690, 387, 1903, 2561, 311, 13378, 22415, 5983, 11, 902, 1304, 709, 279, 8857, 315, 8753, 24190, 11, 304, 3428, 2802, 17017, 13, 31122, 19491, 311, 12192, 8753, 13378, 22917, 527, 311, 387, 65208, 555, 459, 5066, 220, 18, 13, 20, 76, 33588, 304, 11006, 13, 9822, 11299, 4920, 279, 364, 3648, 4435, 6, 24190, 315, 8494, 11, 34100, 323, 279, 3723, 4273, 369, 279, 1176, 892, 304, 220, 1049, 18, 304, 3878, 315, 13086, 382, 23658, 10027, 15652, 11, 24043, 369, 220, 2031, 4, 315, 6763, 11, 706, 16654, 505, 7452, 17294, 389, 13172, 323, 11292, 7172, 60811, 7016, 382, 791, 12576, 6462, 1053, 330, 3261, 264, 6928, 10182, 2212, 8753, 13458, 93828, 1359, 4491, 426, 1892, 486, 2933, 1071, 13, 4452, 11, 13378, 29414, 323, 20957, 1071, 279, 1862, 574, 1790, 2753, 1109, 814, 1047, 1027, 16026, 369, 13, 330, 40, 1097, 16984, 279, 5070, 527, 539, 709, 311, 279, 51566, 1359, 20263, 5364, 91340, 445, 35926, 1155, 11, 505, 279, 50587, 93052, 29149, 11552, 11, 3309, 279, 26475, 8612, 3754, 9266, 13, 763, 459, 5149, 311, 22118, 927, 38487, 11, 279, 3109, 690, 7655, 430, 86529, 649, 387, 14763, 304, 5789, 1405, 70077, 3041, 872, 68509, 14771, 11, 1418, 220, 2636, 348, 396, 5079, 690, 387, 9087, 311, 1935, 4216, 21624, 13, 578, 3109, 690, 1101, 6056, 7665, 9323, 14765, 311, 1612, 321, 922, 220, 5154, 3610, 89016, 315, 13937, 13378, 1139, 13200, 11, 449, 348, 396, 5079, 12588, 20448, 13, 25003, 374, 5131, 704, 30972, 10964, 7631, 555, 922, 220, 966, 14697, 578, 1862, 374, 6319, 311, 1304, 8753, 24190, 810, 15022, 304, 279, 3663, 315, 7859, 3728, 60732, 4028, 279, 13378, 5064, 13, 32926, 29414, 304, 9822, 596, 1888, 22015, 13918, 11, 1778, 439, 41109, 60285, 11, 617, 1766, 433, 2653, 311, 2793, 304, 502, 5557, 323, 311, 1893, 5952, 82585, 16097, 311, 14638, 311, 25355, 23455, 382, 19791, 25, 791, 8753, 3109, 374, 311, 1450, 1202, 20558, 13378, 5064, 220, 2031, 76, 33588, 1746, 5925, 76, 8, 304, 12576, 311, 1520, 433, 8209, 16054, 6763, 323, 34446, 927, 23452, 11829, 1862, 374, 6319, 311, 1304, 8753, 24190, 810, 15022, 304, 279, 3663, 315, 7859, 3728, 60732, 4028, 279, 13378, 5064, 11829, 8753, 13378, 5064, 11, 279, 1917, 596, 2132, 7928, 11, 706, 1027, 4295, 555, 43848, 15652, 520, 2162, 323, 279, 7982, 23354, 315, 1561, 4435, 43855, 5253, 544, 19491, 311, 12192, 8753, 13378, 22917, 527, 311, 387, 65208, 555, 459, 5066, 220, 18, 13, 20, 76, 33588, 304, 11006, 885, 4726, 220, 868, 76, 33588, 690, 387, 1903, 2561, 311, 13378, 22415, 5983, 11, 902, 1304, 709, 279, 8857, 315, 8753, 24190, 11, 304, 3428, 2802, 17017, 67103, 2099, 11, 13378, 29414, 323, 20957, 1071, 279, 1862, 574, 1790, 2753, 1109, 814, 1047, 1027, 16026, 369, 11829, 3109, 690, 1101, 6056, 7665, 9323, 14765, 311, 1612, 321, 922, 220, 5154, 3610, 89016, 315, 13937, 13378, 1139, 13200, 11, 449, 348, 396, 5079, 12588, 20448, 1196, 483, 29414, 11, 4869, 11, 11922, 279, 1862, 1550, 539, 733, 3117, 3403, 13], 'labels': [-100, -100, -100, -100, -100, -100, -100, -100, -100, -100, -100, -100, -100, -100, -100, -100, -100, -100, -100, -100, -100, -100, -100, -100, -100, -100, -100, -100, -100, -100, -100, -100, -100, -100, -100, -100, -100, -100, -100, -100, -100, -100, -100, -100, -100, -100, -100, -100, -100, -100, -100, -100, -100, -100, -100, -100, -100, -100, -100, -100, -100, -100, -100, -100, -100, -100, -100, -100, -100, -100, -100, -100, -100, -100, -100, -100, -100, -100, -100, -100, -100, -100, -100, -100, -100, -100, -100, -100, -100, -100, -100, -100, -100, -100, -100, -100, -100, -100, -100, -100, -100, -100, -100, -100, -100, -100, -100, -100, -100, -100, -100, -100, -100, -100, -100, -100, -100, -100, -100, -100, -100, -100, -100, -100, -100, -100, -100, -100, -100, -100, -100, -100, -100, -100, -100, -100, -100, -100, -100, -100, -100, -100, -100, -100, -100, -100, -100, -100, -100, -100, -100, -100, -100, -100, -100, -100, -100, -100, -100, -100, -100, -100, -100, -100, -100, -100, -100, -100, -100, -100, -100, -100, -100, -100, -100, -100, -100, -100, -100, -100, -100, -100, -100, -100, -100, -100, -100, -100, -100, -100, -100, -100, -100, -100, -100, -100, -100, -100, -100, -100, -100, -100, -100, -100, -100, -100, -100, -100, -100, -100, -100, -100, -100, -100, -100, -100, -100, -100, -100, -100, -100, -100, -100, -100, -100, -100, -100, -100, -100, -100, -100, -100, -100, -100, -100, -100, -100, -100, -100, -100, -100, -100, -100, -100, -100, -100, -100, -100, -100, -100, -100, -100, -100, -100, -100, -100, -100, -100, -100, -100, -100, -100, -100, -100, -100, -100, -100, -100, -100, -100, -100, -100, -100, -100, -100, -100, -100, -100, -100, -100, -100, -100, -100, -100, -100, -100, -100, -100, -100, -100, -100, -100, -100, -100, -100, -100, -100, -100, -100, -100, -100, -100, -100, -100, -100, -100, -100, -100, -100, -100, -100, -100, -100, -100, -100, -100, -100, -100, -100, -100, -100, -100, -100, -100, -100, -100, -100, -100, -100, -100, -100, -100, -100, -100, -100, -100, -100, -100, -100, -100, -100, -100, -100, -100, -100, -100, -100, -100, -100, -100, -100, -100, -100, -100, -100, -100, -100, -100, -100, -100, -100, -100, -100, -100, -100, -100, -100, -100, -100, -100, -100, -100, -100, -100, -100, -100, -100, -100, -100, -100, -100, -100, -100, -100, -100, -100, -100, -100, -100, -100, -100, -100, -100, -100, -100, -100, -100, -100, -100, -100, -100, -100, -100, -100, -100, -100, -100, -100, -100, -100, -100, -100, -100, -100, -100, -100, -100, -100, -100, -100, -100, -100, -100, -100, -100, -100, -100, -100, -100, -100, -100, -100, -100, -100, -100, -100, -100, -100, -100, -100, -100, -100, -100, -100, -100, -100, -100, -100, -100, -100, -100, -100, -100, -100, -100, -100, -100, -100, -100, -100, -100, -100, -100, -100, -100, -100, -100, -100, -100, -100, -100, -100, -100, -100, -100, -100, -100, -100, -100, 791, 8753, 3109, 374, 311, 1450, 1202, 20558, 13378, 5064, 220, 2031, 76, 33588, 1746, 5925, 76, 8, 304, 12576, 311, 1520, 433, 8209, 16054, 6763, 323, 34446, 927, 23452, 11829, 1862, 374, 6319, 311, 1304, 8753, 24190, 810, 15022, 304, 279, 3663, 315, 7859, 3728, 60732, 4028, 279, 13378, 5064, 11829, 8753, 13378, 5064, 11, 279, 1917, 596, 2132, 7928, 11, 706, 1027, 4295, 555, 43848, 15652, 520, 2162, 323, 279, 7982, 23354, 315, 1561, 4435, 43855, 5253, 544, 19491, 311, 12192, 8753, 13378, 22917, 527, 311, 387, 65208, 555, 459, 5066, 220, 18, 13, 20, 76, 33588, 304, 11006, 885, 4726, 220, 868, 76, 33588, 690, 387, 1903, 2561, 311, 13378, 22415, 5983, 11, 902, 1304, 709, 279, 8857, 315, 8753, 24190, 11, 304, 3428, 2802, 17017, 67103, 2099, 11, 13378, 29414, 323, 20957, 1071, 279, 1862, 574, 1790, 2753, 1109, 814, 1047, 1027, 16026, 369, 11829, 3109, 690, 1101, 6056, 7665, 9323, 14765, 311, 1612, 321, 922, 220, 5154, 3610, 89016, 315, 13937, 13378, 1139, 13200, 11, 449, 348, 396, 5079, 12588, 20448, 1196, 483, 29414, 11, 4869, 11, 11922, 279, 1862, 1550, 539, 733, 3117, 3403, 13]}\n"
     ]
    }
   ],
   "source": [
    "print(validation_dataset[300])"
   ]
  },
  {
   "cell_type": "code",
   "execution_count": 23,
   "id": "59e62902-7f44-4844-9a73-7f0dadb51748",
   "metadata": {},
   "outputs": [],
   "source": [
    "# Data collator (for causal LM, might just use default or Seq2Seq)\n",
    "data_collator = DataCollatorForSeq2Seq(tokenizer, model=model, pad_to_multiple_of=8)"
   ]
  },
  {
   "cell_type": "code",
   "execution_count": 24,
   "id": "a3a92e6b-fd94-4b2f-9426-e087a05ab1ec",
   "metadata": {},
   "outputs": [],
   "source": [
    "training_args = TrainingArguments(\n",
    "    output_dir=\"./fine-tuned-llama\",\n",
    "    eval_strategy=\"steps\",\n",
    "    per_device_train_batch_size=1,\n",
    "    per_device_eval_batch_size=1,\n",
    "    learning_rate=5e-5,\n",
    "    num_train_epochs=3,\n",
    "    logging_steps=100,\n",
    "    save_steps=500,\n",
    "    save_total_limit=2,\n",
    "    fp16=False,\n",
    "    report_to=\"none\"\n",
    ")"
   ]
  },
  {
   "cell_type": "code",
   "execution_count": 25,
   "id": "ab83bde4-a4c6-4bde-833a-2c564b35064f",
   "metadata": {},
   "outputs": [],
   "source": [
    "trainer = Trainer(\n",
    "    model=model,\n",
    "    args=training_args,\n",
    "    train_dataset=train_dataset,\n",
    "    eval_dataset=validation_dataset,\n",
    "    data_collator=data_collator,\n",
    "    tokenizer=tokenizer\n",
    ")"
   ]
  },
  {
   "cell_type": "code",
   "execution_count": 26,
   "id": "78054b46-2fae-45b3-b825-071df7f68dd8",
   "metadata": {},
   "outputs": [
    {
     "data": {
      "text/html": [
       "\n",
       "    <div>\n",
       "      \n",
       "      <progress value='4671' max='4671' style='width:300px; height:20px; vertical-align: middle;'></progress>\n",
       "      [4671/4671 1:42:27, Epoch 3/3]\n",
       "    </div>\n",
       "    <table border=\"1\" class=\"dataframe\">\n",
       "  <thead>\n",
       " <tr style=\"text-align: left;\">\n",
       "      <th>Step</th>\n",
       "      <th>Training Loss</th>\n",
       "      <th>Validation Loss</th>\n",
       "    </tr>\n",
       "  </thead>\n",
       "  <tbody>\n",
       "    <tr>\n",
       "      <td>100</td>\n",
       "      <td>0.438100</td>\n",
       "      <td>0.356885</td>\n",
       "    </tr>\n",
       "    <tr>\n",
       "      <td>200</td>\n",
       "      <td>0.311100</td>\n",
       "      <td>0.296605</td>\n",
       "    </tr>\n",
       "    <tr>\n",
       "      <td>300</td>\n",
       "      <td>0.293300</td>\n",
       "      <td>0.307655</td>\n",
       "    </tr>\n",
       "    <tr>\n",
       "      <td>400</td>\n",
       "      <td>0.291600</td>\n",
       "      <td>0.336056</td>\n",
       "    </tr>\n",
       "    <tr>\n",
       "      <td>500</td>\n",
       "      <td>0.285100</td>\n",
       "      <td>0.315621</td>\n",
       "    </tr>\n",
       "    <tr>\n",
       "      <td>600</td>\n",
       "      <td>0.277900</td>\n",
       "      <td>0.328738</td>\n",
       "    </tr>\n",
       "    <tr>\n",
       "      <td>700</td>\n",
       "      <td>0.258400</td>\n",
       "      <td>0.286617</td>\n",
       "    </tr>\n",
       "    <tr>\n",
       "      <td>800</td>\n",
       "      <td>0.259400</td>\n",
       "      <td>0.311707</td>\n",
       "    </tr>\n",
       "    <tr>\n",
       "      <td>900</td>\n",
       "      <td>0.378200</td>\n",
       "      <td>0.298660</td>\n",
       "    </tr>\n",
       "    <tr>\n",
       "      <td>1000</td>\n",
       "      <td>0.267700</td>\n",
       "      <td>0.284947</td>\n",
       "    </tr>\n",
       "    <tr>\n",
       "      <td>1100</td>\n",
       "      <td>0.238500</td>\n",
       "      <td>0.279657</td>\n",
       "    </tr>\n",
       "    <tr>\n",
       "      <td>1200</td>\n",
       "      <td>0.223500</td>\n",
       "      <td>0.304571</td>\n",
       "    </tr>\n",
       "    <tr>\n",
       "      <td>1300</td>\n",
       "      <td>0.277900</td>\n",
       "      <td>0.266524</td>\n",
       "    </tr>\n",
       "    <tr>\n",
       "      <td>1400</td>\n",
       "      <td>0.238500</td>\n",
       "      <td>0.274617</td>\n",
       "    </tr>\n",
       "    <tr>\n",
       "      <td>1500</td>\n",
       "      <td>0.283100</td>\n",
       "      <td>0.247443</td>\n",
       "    </tr>\n",
       "    <tr>\n",
       "      <td>1600</td>\n",
       "      <td>0.201000</td>\n",
       "      <td>0.262604</td>\n",
       "    </tr>\n",
       "    <tr>\n",
       "      <td>1700</td>\n",
       "      <td>0.217600</td>\n",
       "      <td>0.252605</td>\n",
       "    </tr>\n",
       "    <tr>\n",
       "      <td>1800</td>\n",
       "      <td>0.161400</td>\n",
       "      <td>0.257907</td>\n",
       "    </tr>\n",
       "    <tr>\n",
       "      <td>1900</td>\n",
       "      <td>0.213300</td>\n",
       "      <td>0.248524</td>\n",
       "    </tr>\n",
       "    <tr>\n",
       "      <td>2000</td>\n",
       "      <td>0.169400</td>\n",
       "      <td>0.262327</td>\n",
       "    </tr>\n",
       "    <tr>\n",
       "      <td>2100</td>\n",
       "      <td>0.159300</td>\n",
       "      <td>0.251416</td>\n",
       "    </tr>\n",
       "    <tr>\n",
       "      <td>2200</td>\n",
       "      <td>0.158300</td>\n",
       "      <td>0.242146</td>\n",
       "    </tr>\n",
       "    <tr>\n",
       "      <td>2300</td>\n",
       "      <td>0.160700</td>\n",
       "      <td>0.236979</td>\n",
       "    </tr>\n",
       "    <tr>\n",
       "      <td>2400</td>\n",
       "      <td>0.145600</td>\n",
       "      <td>0.240938</td>\n",
       "    </tr>\n",
       "    <tr>\n",
       "      <td>2500</td>\n",
       "      <td>0.140800</td>\n",
       "      <td>0.237653</td>\n",
       "    </tr>\n",
       "    <tr>\n",
       "      <td>2600</td>\n",
       "      <td>0.187200</td>\n",
       "      <td>0.237042</td>\n",
       "    </tr>\n",
       "    <tr>\n",
       "      <td>2700</td>\n",
       "      <td>0.143300</td>\n",
       "      <td>0.233066</td>\n",
       "    </tr>\n",
       "    <tr>\n",
       "      <td>2800</td>\n",
       "      <td>0.147700</td>\n",
       "      <td>0.230949</td>\n",
       "    </tr>\n",
       "    <tr>\n",
       "      <td>2900</td>\n",
       "      <td>0.147900</td>\n",
       "      <td>0.223138</td>\n",
       "    </tr>\n",
       "    <tr>\n",
       "      <td>3000</td>\n",
       "      <td>0.134700</td>\n",
       "      <td>0.231561</td>\n",
       "    </tr>\n",
       "    <tr>\n",
       "      <td>3100</td>\n",
       "      <td>0.168600</td>\n",
       "      <td>0.210522</td>\n",
       "    </tr>\n",
       "    <tr>\n",
       "      <td>3200</td>\n",
       "      <td>0.128600</td>\n",
       "      <td>0.218811</td>\n",
       "    </tr>\n",
       "    <tr>\n",
       "      <td>3300</td>\n",
       "      <td>0.078400</td>\n",
       "      <td>0.227825</td>\n",
       "    </tr>\n",
       "    <tr>\n",
       "      <td>3400</td>\n",
       "      <td>0.081500</td>\n",
       "      <td>0.220858</td>\n",
       "    </tr>\n",
       "    <tr>\n",
       "      <td>3500</td>\n",
       "      <td>0.079500</td>\n",
       "      <td>0.231195</td>\n",
       "    </tr>\n",
       "    <tr>\n",
       "      <td>3600</td>\n",
       "      <td>0.108800</td>\n",
       "      <td>0.229694</td>\n",
       "    </tr>\n",
       "    <tr>\n",
       "      <td>3700</td>\n",
       "      <td>0.069800</td>\n",
       "      <td>0.220905</td>\n",
       "    </tr>\n",
       "    <tr>\n",
       "      <td>3800</td>\n",
       "      <td>0.065200</td>\n",
       "      <td>0.232508</td>\n",
       "    </tr>\n",
       "    <tr>\n",
       "      <td>3900</td>\n",
       "      <td>0.069600</td>\n",
       "      <td>0.227972</td>\n",
       "    </tr>\n",
       "    <tr>\n",
       "      <td>4000</td>\n",
       "      <td>0.062000</td>\n",
       "      <td>0.233083</td>\n",
       "    </tr>\n",
       "    <tr>\n",
       "      <td>4100</td>\n",
       "      <td>0.067200</td>\n",
       "      <td>0.222326</td>\n",
       "    </tr>\n",
       "    <tr>\n",
       "      <td>4200</td>\n",
       "      <td>0.110000</td>\n",
       "      <td>0.218634</td>\n",
       "    </tr>\n",
       "    <tr>\n",
       "      <td>4300</td>\n",
       "      <td>0.059300</td>\n",
       "      <td>0.217602</td>\n",
       "    </tr>\n",
       "    <tr>\n",
       "      <td>4400</td>\n",
       "      <td>0.064900</td>\n",
       "      <td>0.215272</td>\n",
       "    </tr>\n",
       "    <tr>\n",
       "      <td>4500</td>\n",
       "      <td>0.078100</td>\n",
       "      <td>0.217142</td>\n",
       "    </tr>\n",
       "    <tr>\n",
       "      <td>4600</td>\n",
       "      <td>0.052800</td>\n",
       "      <td>0.216287</td>\n",
       "    </tr>\n",
       "  </tbody>\n",
       "</table><p>"
      ],
      "text/plain": [
       "<IPython.core.display.HTML object>"
      ]
     },
     "metadata": {},
     "output_type": "display_data"
    },
    {
     "name": "stderr",
     "output_type": "stream",
     "text": [
      "We detected that you are passing `past_key_values` as a tuple and this is deprecated and will be removed in v4.43. Please use an appropriate `Cache` class (https://huggingface.co/docs/transformers/v4.41.3/en/internal/generation_utils#transformers.Cache)\n"
     ]
    },
    {
     "data": {
      "text/html": [
       "\n",
       "    <div>\n",
       "      \n",
       "      <progress value='334' max='334' style='width:300px; height:20px; vertical-align: middle;'></progress>\n",
       "      [334/334 01:01]\n",
       "    </div>\n",
       "    "
      ],
      "text/plain": [
       "<IPython.core.display.HTML object>"
      ]
     },
     "metadata": {},
     "output_type": "display_data"
    },
    {
     "name": "stdout",
     "output_type": "stream",
     "text": [
      "Test set evaluation: {'eval_loss': 0.20476938784122467, 'eval_runtime': 61.4295, 'eval_samples_per_second': 5.437, 'eval_steps_per_second': 5.437, 'epoch': 3.0}\n"
     ]
    }
   ],
   "source": [
    "trainer.train()\n",
    "\n",
    "test_results = trainer.evaluate(test_dataset)\n",
    "print(\"Test set evaluation:\", test_results)\n",
    "\n",
    "trainer.save_model(\"fine-tuned-llama-model\")"
   ]
  },
  {
   "cell_type": "code",
   "execution_count": 27,
   "id": "1a2564b0-0df3-46f8-a6b3-cfe7afe36d3c",
   "metadata": {},
   "outputs": [
    {
     "data": {
      "image/png": "[encoded data removed]",
      "text/plain": [
       "<Figure size 1000x600 with 1 Axes>"
      ]
     },
     "metadata": {},
     "output_type": "display_data"
    }
   ],
   "source": [
    "import matplotlib.pyplot as plt\n",
    "\n",
    "# After training:\n",
    "history = trainer.state.log_history\n",
    "\n",
    "# Extract training and validation losses along with steps/epochs\n",
    "train_steps = []\n",
    "train_losses = []\n",
    "eval_steps = []\n",
    "eval_losses = []\n",
    "\n",
    "for log in history:\n",
    "    if \"loss\" in log and \"eval_loss\" not in log:\n",
    "        # This is a training log\n",
    "        train_steps.append(log[\"step\"] if \"step\" in log else None)\n",
    "        train_losses.append(log[\"loss\"])\n",
    "    elif \"eval_loss\" in log:\n",
    "        # This is an evaluation log\n",
    "        eval_steps.append(log[\"step\"] if \"step\" in log else None)\n",
    "        eval_losses.append(log[\"eval_loss\"])\n",
    "\n",
    "# Plot the losses\n",
    "plt.figure(figsize=(10, 6))\n",
    "plt.plot(train_steps, train_losses, label='Training Loss')\n",
    "plt.plot(eval_steps, eval_losses, label='Validation Loss')\n",
    "plt.xlabel('Step')\n",
    "plt.ylabel('Loss')\n",
    "plt.title('Training and Validation Loss over Time')\n",
    "plt.legend()\n",
    "plt.grid(True)\n",
    "plt.show()"
   ]
  },
  {
   "cell_type": "markdown",
   "id": "6f414173",
   "metadata": {},
   "source": [
    "## Testing out the newly finetuned llama model"
   ]
  },
  {
   "cell_type": "code",
   "execution_count": 13,
   "id": "367715dd-63f8-48b8-8724-79ac64accc93",
   "metadata": {},
   "outputs": [],
   "source": [
    "from transformers import AutoTokenizer, AutoModelForCausalLM, pipeline\n",
    "from datasets import Dataset\n",
    "import evaluate\n",
    "from tqdm.auto import tqdm\n",
    "import random\n",
    "\n",
    "# Load the fine-tuned model and tokenizer\n",
    "model_path = \"/home/jupyter-mckayqsnell/FinalProject/fine-tuned-llama-model\"  # Path to your fine-tuned model directory\n",
    "tokenizer = AutoTokenizer.from_pretrained(model_path, use_auth_token=True)\n",
    "model = AutoModelForCausalLM.from_pretrained(model_path, device_map=\"auto\")"
   ]
  },
  {
   "cell_type": "code",
   "execution_count": 15,
   "id": "9ad6fc6e",
   "metadata": {},
   "outputs": [],
   "source": [
    "pipe = pipeline(\"text-generation\", model=model, tokenizer=tokenizer, device_map=\"auto\")"
   ]
  },
  {
   "cell_type": "code",
   "execution_count": 16,
   "id": "5db6300f",
   "metadata": {},
   "outputs": [],
   "source": [
    "def summarize_article_finetuned(article_text, max_new_tokens=400, temperature=0.7, top_p=0.9):\n",
    "    prompt = f\"Summarize the following article:\\n\\n{article_text}\\n\\nSummary:\"\n",
    "    output = pipe(\n",
    "        prompt,\n",
    "        num_return_sequences=1,\n",
    "        pad_token_id=tokenizer.eos_token_id,\n",
    "        max_new_tokens=max_new_tokens,\n",
    "        temperature=temperature,\n",
    "        top_p=top_p,\n",
    "        do_sample=True\n",
    "    )\n",
    "    generated_text = output[0]['generated_text']\n",
    "    summary_start = generated_text.find(\"Summary:\") + len(\"Summary:\")\n",
    "    return generated_text[summary_start:].strip()"
   ]
  },
  {
   "cell_type": "code",
   "execution_count": 17,
   "id": "dc5d44ab",
   "metadata": {},
   "outputs": [],
   "source": [
    "# Test the model on a few articles manually\n",
    "articles_to_test = [\n",
    "    df_merged[\"Content\"].iloc[0],\n",
    "    df_merged[\"Content\"].iloc[10]\n",
    "]"
   ]
  },
  {
   "cell_type": "code",
   "execution_count": 18,
   "id": "584eda82",
   "metadata": {},
   "outputs": [
    {
     "name": "stdout",
     "output_type": "stream",
     "text": [
      "Article 0 summary:\n",
      "\"Voice-over broadband is a key trend across Europe and is set to have a dramatic impact on the telecommunications industry, \" Eric Abensur, Wanadoo's chief executive told the BBC News website.Rich Templeton, the head of giant chip maker Texas Instruments, has given his backing to the growing sector of Voice over Internet Telephony (Voip)  Voip allows PC users, and in some cases those with just a broadband connection, to make telephone calls via the net.\"We can help mass-market adoption of Voip,\" said AOL chief executive Jonathan Miller.\"We want to communicate freely, effortlessly and economically wherever we are.\"The service will cost an extra Â£4 a month and will come with a free Livebox, the broadband hub which Wanadoo plans will be used in future to provide video-on-demand and home security services.\"It's not about the pipe, if you will, or the silicon per se, it's about the application,\" he said.The world's largest maker of chips for mobile phones believes the technology will grow rapidly from the relatively small user base it has currently.Mr Templeton said Voip would be the next major application to drive broadband connections into homes.Bill Simmelink, general manager of TI's Voip business, said the technology would only take off when people were making net calls with the ease of making a normal call.\"We can utilise our national footprint.Spyype lets people make free calls to other Skype users and also make low-cost calls to ordinary phone numbers.Customers will continue to use their traditional phones, but they will plug them into adapters connected to their broadband source rather than the jack provided by the telephone company.\"We want to communicate freely, effortlessly and economically wherever we are.\"The secondary phone line will mean customers can have an extra home phone number and will also provide wireless internet access around the home.Officials will call the phone call to other phones to make up users users users users users users users users users users users users users users users\n",
      "\n",
      "Article 1 summary:\n",
      "Cebit, the world's largest hi-tech fair, has opened its doors in Hanover for a look at the latest technologies for homes and businesses.Cebit is used by many to unveil cutting edge products and in the mobile sphere this is likely to mean a lot of bright, colourful handsets as fashion continues to compete with technology when it comes to the device everyone has in their pockets.Cebit could become the battleground for the two competing methods for getting TV on to mobiles, and is also likely to provide a stage for a technology slated to compete with 3G.\"The digital home will be a hyped theme at the show.It could be the last big year for Cebit,\" he said.Samsung is set to steal some initial limelight with the launch of a 7-megapixel phone on the opening day.Apple and Motorola announced they were getting together at the end of last year as a result of a long-standing friendship between Motorola's chief executive Ed Zander and Steve Jobs.Cebit organisers have created a digital home in Hall 25 of the 27 hangar-like buildings that will house the show.Cebit is set a grim of recent headlines about mobile TV - French operators are teaming up, O2 is trialling a system in Oxford, UK, and Nokia begins trialling a system in Finland with the Finnish Broadcasting Company, YLE TV and commercial TV channels.Cebit, the world's largest hi-tech fair, has opened its doors in Hanover for a look at the latest technologies for homes and businesses.There will be a certain amount of 'look how big mine is',\" he said.For instance, a song which currently takes one and a half minutes to download to a phone could be done in 10 seconds.Broadband will continue to be a key theme at the show with internet telephony proving this year's killer application.Cebit could become the battleground for the two competing methods for getting TV on to mobiles, and is also\n",
      "\n"
     ]
    }
   ],
   "source": [
    "for i, article in enumerate(articles_to_test):\n",
    "    summary = summarize_article_finetuned(article)\n",
    "    print(f\"Article {i} summary:\\n{summary}\\n\")"
   ]
  },
  {
   "cell_type": "code",
   "execution_count": 19,
   "id": "21845e57",
   "metadata": {},
   "outputs": [],
   "source": [
    "# Now let's compute metrics (ROUGE and BLEU) on a random sample of 100 articles from df_merged\n",
    "def generate_summaries_for_df(df, generate_summary_func, sample_size=100):\n",
    "    # Take a random sample of the dataframe\n",
    "    df_sampled = df.sample(n=sample_size, random_state=42).copy().reset_index(drop=True)\n",
    "\n",
    "    generated_summaries = []\n",
    "    for i in tqdm(range(len(df_sampled)), desc=\"Generating summaries\"):\n",
    "        article_text = df_sampled[\"Content\"].iloc[i]\n",
    "        gen_summary = generate_summary_func(article_text)\n",
    "        generated_summaries.append(gen_summary)\n",
    "\n",
    "    df_sampled[\"Generated_Summary\"] = generated_summaries\n",
    "    return df_sampled"
   ]
  },
  {
   "cell_type": "code",
   "execution_count": 20,
   "id": "9e6558e0",
   "metadata": {},
   "outputs": [],
   "source": [
    "def compute_metrics(df):\n",
    "    references = df[\"Summary\"].tolist()\n",
    "    predictions = df[\"Generated_Summary\"].tolist()\n",
    "\n",
    "    rouge = evaluate.load(\"rouge\")\n",
    "    bleu = evaluate.load(\"bleu\")\n",
    "\n",
    "    # Compute ROUGE\n",
    "    rouge_results = rouge.compute(predictions=predictions, references=references)\n",
    "\n",
    "    # Compute BLEU\n",
    "    # BLEU expects references as a list of lists\n",
    "    bleu_references = [[ref] for ref in references]\n",
    "    bleu_results = bleu.compute(predictions=predictions, references=bleu_references)\n",
    "\n",
    "    return rouge_results, bleu_results"
   ]
  },
  {
   "cell_type": "code",
   "execution_count": 21,
   "id": "cde18a8e",
   "metadata": {},
   "outputs": [
    {
     "data": {
      "application/vnd.jupyter.widget-view+json": {
       "model_id": "c8882015e160489bb586c0b83845ed43",
       "version_major": 2,
       "version_minor": 0
      },
      "text/plain": [
       "Generating summaries:   0%|          | 0/100 [00:00<?, ?it/s]"
      ]
     },
     "metadata": {},
     "output_type": "display_data"
    },
    {
     "name": "stderr",
     "output_type": "stream",
     "text": [
      "You seem to be using the pipelines sequentially on GPU. In order to maximize efficiency please use a dataset\n"
     ]
    },
    {
     "name": "stdout",
     "output_type": "stream",
     "text": [
      "ROUGE results: {'rouge1': 0.6074369756164821, 'rouge2': 0.5564532349442375, 'rougeL': 0.47221835638089604, 'rougeLsum': 0.4726310074900368}\n",
      "BLEU results: {'bleu': 0.4497409349686672, 'precisions': [0.4907514133596795, 0.4492542242280808, 0.435592471990728, 0.42600586640101834], 'brevity_penalty': 1.0, 'length_ratio': 1.7153752000753224, 'translation_length': 36438, 'reference_length': 21242}\n"
     ]
    }
   ],
   "source": [
    "# Generate summaries on a sample of 100 articles from df_merged using the fine-tuned model\n",
    "df_with_gen = generate_summaries_for_df(df_merged, summarize_article_finetuned, sample_size=100)\n",
    "\n",
    "# Compute metrics\n",
    "rouge_scores, bleu_scores = compute_metrics(df_with_gen)\n",
    "print(\"ROUGE results:\", rouge_scores)\n",
    "print(\"BLEU results:\", bleu_scores)"
   ]
  },
  {
   "cell_type": "code",
   "execution_count": 9,
   "id": "3f3a0727",
   "metadata": {},
   "outputs": [
    {
     "data": {
      "text/plain": [
       "'\\nRich Templeton, the head of giant chip maker Texas Instruments, has given his backing to the growing sector of Voice over Internet Telephony (Voip)\\n\\nVoip allows PC users, and in some cases those with just a broadband connection, to make telephone calls via the net. Mr Templeton said Voip would be the next major application to drive broadband connections into homes. Internet service provider Wanadoo has announced it is launching its own broadband telephony service in the UK.\\n\\nSubscribers to Wanadoo\\'s broadband service will be able to use the service to make free evening and weekend calls to any UK landline, and free calls at any time to other Wanadoo users. The service will cost an extra Â£4 a month and will come with a free Livebox, the broadband hub which Wanadoo plans will be used in future to provide video-on-demand and home security services. The secondary phone line will mean customers can have an extra home phone number and will also provide wireless internet access around the home. Eventually the service will replace existing landline services as Wanadoo goes head to head with BT. \"Voice-over broadband is a key trend across Europe and is set to have a dramatic impact on the telecommunications industry, \" Eric Abensur, Wanadoo\\'s chief executive told the BBC News website. Mr Templeton said he agreed. \"Voice-over-packet is going to be the second killer application after broadband internet access,\" he said. The world\\'s largest maker of chips for mobile phones believes the technology will grow rapidly from the relatively small user base it has currently.\\n\\nAlmost 83 million people have downloaded the software that powers the Skype Voip service, according to the net telephony firm\\'s website. Skype lets people make free calls to other Skype users and also make low-cost calls to ordinary phone numbers. US firm Vonage also offers a Voip service, but one which lets people plug an ordinary phone into a broadband router to make calls. Bill Simmelink, general manager of TI\\'s Voip business, said the technology would only take off when people were making net calls with the ease of making a normal call. \"It\\'s not about the pipe, if you will, or the silicon per se, it\\'s about the application,\" he said.\\n\\n\"We want to communicate freely, effortlessly and economically wherever we are.\" In a sign that Voip is seeping into the mainstream, giant ISP AOL announced on Tuesday that it had plans to launch a net-based phone service for some of its members within the month. Customers will continue to use their traditional phones, but they will plug them into adapters connected to their broadband source rather than the jack provided by the telephone company. Calls are received and placed just like on the old telephone network. \"We can help mass-market adoption of Voip,\" said AOL chief executive Jonathan Miller. \"We can utilise our national footprint. We can help the entire industry become well known.\"'"
      ]
     },
     "execution_count": 9,
     "metadata": {},
     "output_type": "execute_result"
    }
   ],
   "source": [
    "df_merged['Content'].iloc[0]"
   ]
  },
  {
   "cell_type": "code",
   "execution_count": null,
   "id": "fb8a60eb",
   "metadata": {},
   "outputs": [],
   "source": []
  }
 ],
 "metadata": {
  "kernelspec": {
   "display_name": "Python 3 (ipykernel)",
   "language": "python",
   "name": "python3"
  }
 },
 "nbformat": 4,
 "nbformat_minor": 5
}
